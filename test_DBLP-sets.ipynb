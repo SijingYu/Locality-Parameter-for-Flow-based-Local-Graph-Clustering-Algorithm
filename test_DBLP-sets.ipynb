{
 "cells": [
  {
   "cell_type": "code",
   "execution_count": 100,
   "metadata": {},
   "outputs": [
    {
     "name": "stderr",
     "output_type": "stream",
     "text": [
      "WARNING: redefinition of constant igraph. This may fail, cause incorrect answers, or produce other errors.\n",
      "WARNING: redefinition of constant pyrandom. This may fail, cause incorrect answers, or produce other errors.\n"
     ]
    },
    {
     "data": {
      "text/plain": [
       "get_fluc_indices (generic function with 1 method)"
      ]
     },
     "execution_count": 100,
     "metadata": {},
     "output_type": "execute_result"
    }
   ],
   "source": [
    "# Import required files\n",
    "using MAT\n",
    "using Plots\n",
    "\n",
    "include(\"algorithms/FlowSeed-1.0.jl\")\n",
    "include(\"utilities.jl\")"
   ]
  },
  {
   "cell_type": "code",
   "execution_count": 52,
   "metadata": {},
   "outputs": [
    {
     "data": {
      "text/plain": [
       "1336-element Vector{Int64}:\n",
       "    349\n",
       "    406\n",
       "    565\n",
       "    729\n",
       "    757\n",
       "    784\n",
       "    785\n",
       "    978\n",
       "    994\n",
       "   1087\n",
       "   1336\n",
       "   1393\n",
       "   1606\n",
       "      ⋮\n",
       " 306815\n",
       " 306816\n",
       " 306817\n",
       " 306818\n",
       " 310626\n",
       " 311578\n",
       " 312647\n",
       " 314852\n",
       " 315465\n",
       " 315816\n",
       " 316086\n",
       " 316185"
      ]
     },
     "execution_count": 52,
     "metadata": {},
     "output_type": "execute_result"
    }
   ],
   "source": [
    "# Import the matrix\n",
    "mat = matread(\"Exp1-snap-communities/datasets/DBLP-top10.mat\")\n",
    "A = mat[\"A\"]\n",
    "matS = matread(\"Exp1-snap-communities/datasets/DBLP-seed-starter.mat\")\n",
    "\n",
    "# Choose a random seed set and find all nonzero nodes, \"S5\" can be replaced by \"S3\" and \"S2\"\n",
    "S = matS[\"S5\"]\n",
    "Rstart = findall(x->x!=0,S[:,2])\n",
    "V = neighborhood(A,Rstart,1)\n",
    "#set_v, cut_v, set_sizes=v_cuts_sets(A, V[36], [0.0001,0.0005])"
   ]
  },
  {
   "cell_type": "code",
   "execution_count": 31,
   "metadata": {},
   "outputs": [],
   "source": [
    "epsilons = Vector{Float64}([0.0001,0.0005,0.001,0.005,0.01,0.05,0.1])\n",
    "indices = [36,67,152,175,334,371,403,429,583,585,647,807,988,1012,1064,1137,1239,1289]\n",
    "nodes = [3477,9488,22524,24514,45569,49524,55860,57772,77565,78038,91936,112118,144611,148824,160317,178694,204550,219089]\n",
    "sets, cuts, set_sizes_vs = FlowSeed_on_a_set(A, nodes, 1, 18, epsilons, true, true)\n",
    "save_to_mat(sets, cuts, set_sizes_vs, \"DBLP_S5_#5_fluctuating_include_R\", 1, 18)\n",
    "#=DBLP_S5 = matread(\"DBLP_S5_#5_1-1683.mat\")\n",
    "DBLP_S5[\"set_sizes\"][67]\n",
    "latices = \"\"\n",
    "for i in 1:length(indices)\n",
    "    table, latex = epsilon_table(A, nodes[i], indices[i], \n",
    "    epsilons[get_fluc_indices(DBLP_S5[\"set_sizes\"][indices[i]])], \n",
    "    epsilons, Vector{Vector{Vector{Int64}}}(DBLP_S5[\"set\"]), \n",
    "    Vector{Vector{Int64}}(DBLP_S5[\"cut\"]), false)\n",
    "    latices = latices*latex\n",
    "end\n",
    "print(latices)=#\n"
   ]
  },
  {
   "cell_type": "code",
   "execution_count": 101,
   "metadata": {},
   "outputs": [
    {
     "ename": "LoadError",
     "evalue": "syntax: incomplete: premature end of input",
     "output_type": "error",
     "traceback": [
      "syntax: incomplete: premature end of input",
      "",
      "Stacktrace:",
      " [1] top-level scope",
      "   @ In[101]:45",
      " [2] eval",
      "   @ ./boot.jl:360 [inlined]",
      " [3] include_string(mapexpr::typeof(REPL.softscope), mod::Module, code::String, filename::String)",
      "   @ Base ./loading.jl:1116"
     ]
    }
   ],
   "source": [
    "mat = matread(\"DBLP_S5_#5_fluctuating_include_R_1-18.mat\")\n",
    "#=for i in 1:length(indices)\n",
    "    #=table, latex = epsilon_table(A, nodes[i], indices[i], \n",
    "        epsilons[get_fluc_indices(mat[\"set_sizes\"][indices[i]])], \n",
    "        epsilons, Vector{Vector{Vector{Int64}}}(mat[\"set\"]), \n",
    "        Vector{Vector{Int64}}(mat[\"cut\"]), false)=#\n",
    "    plot_fluctuate(A, nodes[i], i, Vector{Vector{Vector{Int64}}}(mat[\"set\"]), \n",
    "        epsilons, Vector{Vector{Int64}}(mat[\"set_sizes\"]), \"kk\", \n",
    "        \"Node\"*string(nodes[i])*\" with all R\", false)\n",
    "    latices = latices*latex\n",
    "end=#\n",
    "#=\n",
    "sets\n",
    "save_to_mat(sets, cuts, set_sizes_vs, \"DBLP_S5_#1\", 801, 1072)\n",
    "mat1 = matread(\"DBLP_S5_#1_1-200.mat\")\n",
    "mat2 = matread(\"DBLP_S5_#1_201-400.mat\")\n",
    "mat3 = matread(\"DBLP_S5_#1_401-600.mat\")\n",
    "mat4 = matread(\"DBLP_S5_#1_601-800.mat\")\n",
    "mat5 = matread(\"DBLP_S5_#1_801-1072.mat\")\n",
    "new_set = vcat(mat1[\"set\"], mat2[\"set\"], mat3[\"set\"], mat4[\"set\"], mat5[\"set\"])\n",
    "new_cut = vcat(mat1[\"cut\"], mat2[\"cut\"], mat3[\"cut\"], mat4[\"cut\"], mat5[\"cut\"])\n",
    "new_set_sizes = vcat(mat1[\"set_sizes\"], mat2[\"set_sizes\"], mat3[\"set_sizes\"], mat4[\"set_sizes\"], mat5[\"set_sizes\"])\n",
    "save_to_mat(Vector{Vector{Vector{Int64}}}(new_set), Vector{Vector{Int64}}(new_cut), \n",
    "Vector{Vector{Int64}}(new_set_sizes), \"DBLP_S5_#1\", 1, 1072)=#\n",
    "node = nodes[1]\n",
    "index = 1\n",
    "set = Vector{Vector{Vector{Int64}}}(mat[\"set\"])\n",
    "set_size = Vector{Vector{Int64}}(mat[\"set_sizes\"])[1]\n",
    "title = \"Node\"*string(nodes[1])*\" with all R\"\n",
    "\n",
    "indices = get_fluc_indices(set_size)\n",
    "if indices === nothing \n",
    "    indices = Vector{Int64}()\n",
    "    uniques = unique(set_size)\n",
    "    for u in uniques\n",
    "        push!(indices, last(findall(x->x == u, set_size)))\n",
    "    end\n",
    "end\n",
    "S = set[index]\n",
    "R = neighborhood(A, [node], 1)\n",
    "essential_nodes = []\n",
    "for i in 1:length(indices)\n",
    "    essential_nodes = union(essential_nodes, S[indices[i]])\n",
    "end\n",
    "plot_sets(A, nodes[1], 1, Vector{Vector{Vector{Int64}}}(mat[\"set\"]), \n",
    "        epsilons, Vector{Vector{Int64}}(mat[\"set_sizes\"]), \"kk\", \n",
    "        \"Node\"*string(nodes[1])*\" with all R\", false)"
   ]
  },
  {
   "cell_type": "code",
   "execution_count": null,
   "metadata": {},
   "outputs": [],
   "source": [
    "same, inc, dec, fluc = classify_sets_by_trend(set_sizes_vs)\n",
    "same2, inc2, dec2, fluc2 = classify_sets_by_trend(cuts)\n",
    "\n",
    "print(\"Nodes with unchanged set size: \")\n",
    "println(Vector{Int64}(same))\n",
    "print(\"Nodes with increasing set size: \")\n",
    "println(Vector{Int64}(inc))\n",
    "print(\"Nodes with decreasing set size: \")\n",
    "println(Vector{Int64}(dec))\n",
    "print(\"Nodes with fluctuating set size: \")\n",
    "println(Vector{Int64}(fluc))\n",
    "println(\"-----------------------------------------------------------------------\")\n",
    "print(\"Nodes with unchanged set size: \")\n",
    "println(Vector{Int64}(same2))\n",
    "print(\"Nodes with increasing set size: \")\n",
    "println(Vector{Int64}(inc2))\n",
    "print(\"Nodes with decreasing set size: \")\n",
    "println(Vector{Int64}(dec2))\n",
    "print(\"Nodes with fluctuating set size: \")\n",
    "println(Vector{Int64}(fluc2))"
   ]
  }
 ],
 "metadata": {
  "kernelspec": {
   "display_name": "Julia 1.6.2",
   "language": "julia",
   "name": "julia-1.6"
  },
  "language_info": {
   "file_extension": ".jl",
   "mimetype": "application/julia",
   "name": "julia",
   "version": "1.6.2"
  }
 },
 "nbformat": 4,
 "nbformat_minor": 4
}
